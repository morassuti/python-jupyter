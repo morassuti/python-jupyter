{
 "cells": [
  {
   "cell_type": "code",
   "execution_count": null,
   "metadata": {},
   "outputs": [],
   "source": [
    "# Conditional IF / FOR\n",
    "\n",
    "age = 18\n",
    "if age > 17:\n",
    "    print (\"Allowed driving license\")\n",
    "else:\n",
    "    print(\"Not allowed driving license\")"
   ]
  },
  {
   "cell_type": "code",
   "execution_count": null,
   "metadata": {},
   "outputs": [],
   "source": [
    "age = 18\n",
    "name = \"Diego\"\n",
    "if age > 17:\n",
    "    if name == \"Diego\":\n",
    "        print (\"Allowed\")\n",
    "    else:\n",
    "        print (\"Not Allowed\")\n",
    "        "
   ]
  },
  {
   "cell_type": "code",
   "execution_count": null,
   "metadata": {},
   "outputs": [],
   "source": [
    "# and logic operator\n",
    "age = 18\n",
    "name = \"Diego\"\n",
    "message = \"Allowed\" if age >=18 and name == \"Diego\" else \"Not Allowed\"\n",
    "print (message)"
   ]
  },
  {
   "cell_type": "code",
   "execution_count": null,
   "metadata": {},
   "outputs": [],
   "source": [
    "# not logic operator\n",
    "student = False\n",
    "if not student:\n",
    "    print(\"Eligible\")\n",
    "else:\n",
    "    print(\"Not Eligible\")"
   ]
  },
  {
   "cell_type": "code",
   "execution_count": null,
   "metadata": {},
   "outputs": [],
   "source": [
    "# elif\n",
    "day = \"Tuesday\"\n",
    "if day == \"Monday\":\n",
    "    print (\"Conference First Day\")\n",
    "elif day == \"Tuesday\": \n",
    "    print (\"Conference Second and Last Day\")\n",
    "else:\n",
    "    print (\"No Conference\")"
   ]
  },
  {
   "cell_type": "code",
   "execution_count": null,
   "metadata": {},
   "outputs": [],
   "source": [
    "subject = input(\"Type school subject name: \")\n",
    "grade = input (\"Type grade: \")\n",
    "year = input (\"Type year (1-3)\")\n",
    "\n",
    "if subject == \"Math\" and grade >= '7' and int(year) != 1:\n",
    "    print (\"Approved\")\n",
    "elif subject == \"Math\" and grade >= '5' and int(year) == 1:\n",
    "        print(\"Approved\")\n",
    "else:\n",
    "    print (\"Not Approved\")\n"
   ]
  },
  {
   "cell_type": "code",
   "execution_count": 28,
   "metadata": {},
   "outputs": [
    {
     "name": "stdout",
     "output_type": "stream",
     "text": [
      "10\n",
      "20\n",
      "30\n",
      "40\n"
     ]
    }
   ],
   "source": [
    "tuple = (10, 20, 30, 40)\n",
    "for i in tuple:\n",
    "    print (i)"
   ]
  },
  {
   "cell_type": "code",
   "execution_count": 29,
   "metadata": {},
   "outputs": [
    {
     "name": "stdout",
     "output_type": "stream",
     "text": [
      "Lettuce\n",
      "Spinach\n",
      "Broccoli\n"
     ]
    }
   ],
   "source": [
    "List = [\"Lettuce\",\"Spinach\",\"Broccoli\"]\n",
    "for i in List:\n",
    "    print(i)"
   ]
  },
  {
   "cell_type": "code",
   "execution_count": 31,
   "metadata": {},
   "outputs": [
    {
     "name": "stdout",
     "output_type": "stream",
     "text": [
      "2\n",
      "32\n",
      "44\n",
      "56\n",
      "78\n",
      "84\n",
      "92\n",
      "98\n",
      "100\n"
     ]
    }
   ],
   "source": [
    "list = [1,2,5,7,32,44,56,57,69,78,83,84,91,92,98,99,100]\n",
    "for i in list:\n",
    "    if i % 2 == 0:\n",
    "        print(i)"
   ]
  },
  {
   "cell_type": "code",
   "execution_count": 41,
   "metadata": {},
   "outputs": [
    {
     "name": "stdout",
     "output_type": "stream",
     "text": [
      "592\n"
     ]
    }
   ],
   "source": [
    "list = {33,44,56,76,87}\n",
    "total = 0\n",
    "for i in list:\n",
    "        value_i = i * 2\n",
    "        total += value_i\n",
    "print (total)\n",
    "        "
   ]
  },
  {
   "cell_type": "code",
   "execution_count": 43,
   "metadata": {},
   "outputs": [
    {
     "name": "stdout",
     "output_type": "stream",
     "text": [
      "Item in the List\n"
     ]
    }
   ],
   "source": [
    "list = {5, 7, 9 , 11, 13, 15, 16, 17, 21, 24, 26, 29}\n",
    "for item in list:\n",
    "    if item == 17:\n",
    "        print (\"Item in the List\")"
   ]
  },
  {
   "cell_type": "code",
   "execution_count": 47,
   "metadata": {},
   "outputs": [
    {
     "name": "stdout",
     "output_type": "stream",
     "text": [
      "n1 Unit\n",
      "n2 Testing\n"
     ]
    }
   ],
   "source": [
    "dict = {'n1':'Unit','n2':'Testing'}\n",
    "for i,v in dict.items():\n",
    "    print (i,v)"
   ]
  },
  {
   "cell_type": "code",
   "execution_count": null,
   "metadata": {},
   "outputs": [],
   "source": [
    "# END"
   ]
  }
 ],
 "metadata": {
  "kernelspec": {
   "display_name": "Python 3",
   "language": "python",
   "name": "python3"
  },
  "language_info": {
   "codemirror_mode": {
    "name": "ipython",
    "version": 3
   },
   "file_extension": ".py",
   "mimetype": "text/x-python",
   "name": "python",
   "nbconvert_exporter": "python",
   "pygments_lexer": "ipython3",
   "version": "3.7.6"
  }
 },
 "nbformat": 4,
 "nbformat_minor": 4
}
