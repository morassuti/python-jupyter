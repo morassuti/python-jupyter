{
 "cells": [
  {
   "cell_type": "code",
   "execution_count": null,
   "metadata": {},
   "outputs": [],
   "source": [
    "def func(nome):\n",
    "    print('Hello %s' %(nome))\n",
    "func('Student')"
   ]
  },
  {
   "cell_type": "code",
   "execution_count": null,
   "metadata": {},
   "outputs": [],
   "source": [
    "def funcRead():\n",
    "    for i in range(0,9):\n",
    "        print('Number ' + str(i))"
   ]
  },
  {
   "cell_type": "code",
   "execution_count": null,
   "metadata": {},
   "outputs": [],
   "source": [
    "def addNum(firstnum, secondnum):\n",
    "    print(\"First \" + str(firstnum))\n",
    "    print(\"Second \" + str(secondnum))\n",
    "    print(\"Total \", firstnum + secondnum)\n",
    "\n",
    "addNum(45,45)"
   ]
  },
  {
   "cell_type": "code",
   "execution_count": null,
   "metadata": {},
   "outputs": [],
   "source": [
    "age = int (input(\"Type your age: \"))\n",
    "if age > 13:\n",
    "    print(\"You can acess Facebook\")"
   ]
  },
  {
   "cell_type": "code",
   "execution_count": null,
   "metadata": {},
   "outputs": [],
   "source": [
    "int(\"41\")"
   ]
  },
  {
   "cell_type": "code",
   "execution_count": null,
   "metadata": {},
   "outputs": [],
   "source": [
    "float(\"345.765\")"
   ]
  },
  {
   "cell_type": "code",
   "execution_count": null,
   "metadata": {},
   "outputs": [],
   "source": [
    "len ([21,22,23,24])"
   ]
  },
  {
   "cell_type": "code",
   "execution_count": null,
   "metadata": {},
   "outputs": [],
   "source": [
    "array = ['23','13','33']\n",
    "max(array)"
   ]
  },
  {
   "cell_type": "code",
   "execution_count": null,
   "metadata": {},
   "outputs": [],
   "source": [
    "min(array)"
   ]
  },
  {
   "cell_type": "code",
   "execution_count": null,
   "metadata": {},
   "outputs": [],
   "source": [
    "import math\n",
    "\n",
    "def numPrime(num):\n",
    "    # Verify if number is prime\n",
    "    if (num % 2) == 0 and num > 2:\n",
    "        return \"This number is not prime\"\n",
    "    # range starting on 3 to square root of num plus 1, in 2\n",
    "    for i in range(3, int(math.sqrt(num)) + 1,2):\n",
    "        if (num % i) == 0:\n",
    "            return \"This number is not prime\"\n",
    "        return \"This number is prime\"\n",
    "    \n",
    "numPrime(17)"
   ]
  },
  {
   "cell_type": "code",
   "execution_count": null,
   "metadata": {},
   "outputs": [],
   "source": [
    "+#Function with indefinite number of parameters\n",
    "def printNum (arg1, *args):\n",
    "    print (\"Parameter: \", arg1)\n",
    "    for i in args:\n",
    "        print (\"Parameters: \", i)\n",
    "    return;\n",
    "+printNum(13,17,21)"
   ]
  },
  {
   "cell_type": "code",
   "execution_count": null,
   "metadata": {},
   "outputs": [],
   "source": [
    "def p(num):\n",
    "    result = num ** 2\n",
    "    return result\n",
    "p(5)\n",
    "\n",
    "#def p(num): return num**2\n",
    "#p(5)"
   ]
  },
  {
   "cell_type": "code",
   "execution_count": null,
   "metadata": {},
   "outputs": [],
   "source": [
    "#Lambda Functions\n",
    "p = lambda num: num**2\n",
    "p(5)"
   ]
  },
  {
   "cell_type": "code",
   "execution_count": null,
   "metadata": {},
   "outputs": [],
   "source": [
    "p = lambda num: num%2==0\n",
    "p(3)"
   ]
  },
  {
   "cell_type": "code",
   "execution_count": null,
   "metadata": {},
   "outputs": [],
   "source": [
    "r = lambda word: word[::-1]\n",
    "r('Python Programming Language')"
   ]
  },
  {
   "cell_type": "code",
   "execution_count": null,
   "metadata": {},
   "outputs": [],
   "source": [
    "addNum = lambda x,y: x+y\n",
    "addNum(20,21)"
   ]
  },
  {
   "cell_type": "code",
   "execution_count": null,
   "metadata": {},
   "outputs": [],
   "source": []
  }
 ],
 "metadata": {
  "kernelspec": {
   "display_name": "Python 3",
   "language": "python",
   "name": "python3"
  },
  "language_info": {
   "codemirror_mode": {
    "name": "ipython",
    "version": 3
   },
   "file_extension": ".py",
   "mimetype": "text/x-python",
   "name": "python",
   "nbconvert_exporter": "python",
   "pygments_lexer": "ipython3",
   "version": "3.7.6"
  }
 },
 "nbformat": 4,
 "nbformat_minor": 4
}
